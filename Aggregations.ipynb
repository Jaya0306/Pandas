{
 "cells": [
  {
   "cell_type": "code",
   "execution_count": 1,
   "id": "4d1dd6f1-6b1b-4a33-9706-8bcc1066890b",
   "metadata": {},
   "outputs": [],
   "source": [
    "import pandas as pd"
   ]
  },
  {
   "cell_type": "code",
   "execution_count": 2,
   "id": "503d77c2-6dfc-4d3f-aebe-8372045ca225",
   "metadata": {},
   "outputs": [],
   "source": [
    "# Creating the DataFrame\n",
    "\n",
    "data = {\n",
    "    'id': list(range(1, 21)),  # Employee IDs from 1 to 20\n",
    "    'name': [\n",
    "        'Alice', 'Bob', 'Charlie', 'David', 'Eva', 'Frank', 'Grace', 'Henry', \n",
    "        'Ivy', 'Jack', 'Kevin', 'Laura', 'Mike', 'Nancy', 'Oliver', 'Paul', \n",
    "        'Quinn', 'Rachel', 'Steve', 'Tina'\n",
    "    ],\n",
    "    'department': [\n",
    "        'HR', 'IT', 'Finance', 'IT', 'HR', 'IT', 'Finance', 'IT', \n",
    "        'Marketing', 'Sales', 'Finance', 'Sales', 'IT', 'HR', 'Marketing', 'IT', \n",
    "        'Finance', 'Sales', 'Marketing', 'HR'\n",
    "    ],\n",
    "    'salary': [\n",
    "        60000, 85000, 75000, 92000, 54000, 48000, 97000, 110000, \n",
    "        68000, 73000, 89000, 72000, 95000, 51000, 67000, 88000, \n",
    "        93000, 76000, 70000, 59000\n",
    "    ],\n",
    "    'joining_date': pd.to_datetime([\n",
    "        '2021-06-15', '2020-09-23', '2018-02-14', '2019-11-01', '2022-05-10', \n",
    "        '2021-07-20', '2017-08-25', '2016-12-05', '2020-04-17', '2019-03-08', \n",
    "        '2015-06-25', '2021-09-30', '2018-11-20', '2019-07-15', '2017-02-28', \n",
    "        '2016-10-05', '2020-12-11', '2018-05-22', '2019-08-13', '2022-01-19'\n",
    "    ]),\n",
    "    'city': [\n",
    "        'New York', 'San Francisco', 'Chicago', 'Austin', 'New York', 'San Francisco', 'Chicago', 'Austin', \n",
    "        'Seattle', 'Boston', 'Chicago', 'Boston', 'Austin', 'New York', 'Seattle', 'San Francisco', \n",
    "        'Chicago', 'Boston', 'Seattle', 'New York'\n",
    "    ]\n",
    "}"
   ]
  },
  {
   "cell_type": "code",
   "execution_count": 3,
   "id": "65dd69b1-f05a-46b2-87f4-9d8dc4d4dc8d",
   "metadata": {},
   "outputs": [],
   "source": [
    "df = pd.DataFrame(data)"
   ]
  },
  {
   "cell_type": "markdown",
   "id": "af526d46-62eb-4f75-aa6f-dba1aab36187",
   "metadata": {},
   "source": [
    "#### Total Salary Paid Per Department"
   ]
  },
  {
   "cell_type": "code",
   "execution_count": 5,
   "id": "148baeb5-2394-41a4-a146-8c32cc29729f",
   "metadata": {},
   "outputs": [
    {
     "data": {
      "text/html": [
       "<div>\n",
       "<style scoped>\n",
       "    .dataframe tbody tr th:only-of-type {\n",
       "        vertical-align: middle;\n",
       "    }\n",
       "\n",
       "    .dataframe tbody tr th {\n",
       "        vertical-align: top;\n",
       "    }\n",
       "\n",
       "    .dataframe thead th {\n",
       "        text-align: right;\n",
       "    }\n",
       "</style>\n",
       "<table border=\"1\" class=\"dataframe\">\n",
       "  <thead>\n",
       "    <tr style=\"text-align: right;\">\n",
       "      <th></th>\n",
       "      <th>department</th>\n",
       "      <th>total_salary</th>\n",
       "    </tr>\n",
       "  </thead>\n",
       "  <tbody>\n",
       "    <tr>\n",
       "      <th>0</th>\n",
       "      <td>Finance</td>\n",
       "      <td>354000</td>\n",
       "    </tr>\n",
       "    <tr>\n",
       "      <th>1</th>\n",
       "      <td>HR</td>\n",
       "      <td>224000</td>\n",
       "    </tr>\n",
       "    <tr>\n",
       "      <th>2</th>\n",
       "      <td>IT</td>\n",
       "      <td>518000</td>\n",
       "    </tr>\n",
       "    <tr>\n",
       "      <th>3</th>\n",
       "      <td>Marketing</td>\n",
       "      <td>205000</td>\n",
       "    </tr>\n",
       "    <tr>\n",
       "      <th>4</th>\n",
       "      <td>Sales</td>\n",
       "      <td>221000</td>\n",
       "    </tr>\n",
       "  </tbody>\n",
       "</table>\n",
       "</div>"
      ],
      "text/plain": [
       "  department  total_salary\n",
       "0    Finance        354000\n",
       "1         HR        224000\n",
       "2         IT        518000\n",
       "3  Marketing        205000\n",
       "4      Sales        221000"
      ]
     },
     "execution_count": 5,
     "metadata": {},
     "output_type": "execute_result"
    }
   ],
   "source": [
    "#SELECT department, SUM(salary) AS total_salary FROM employees GROUP BY department;\n",
    "df.groupby('department')['salary'].sum().reset_index().rename(columns = {'salary' : 'total_salary'})"
   ]
  },
  {
   "cell_type": "markdown",
   "id": "fdeac12d-9356-4bcf-b744-b2160decce92",
   "metadata": {},
   "source": [
    "#### Average Salary Per Department (Sorted by Highest)"
   ]
  },
  {
   "cell_type": "code",
   "execution_count": 7,
   "id": "9eddf7ec-64b9-43c2-bbc8-65de3ce8cc07",
   "metadata": {},
   "outputs": [
    {
     "data": {
      "text/html": [
       "<div>\n",
       "<style scoped>\n",
       "    .dataframe tbody tr th:only-of-type {\n",
       "        vertical-align: middle;\n",
       "    }\n",
       "\n",
       "    .dataframe tbody tr th {\n",
       "        vertical-align: top;\n",
       "    }\n",
       "\n",
       "    .dataframe thead th {\n",
       "        text-align: right;\n",
       "    }\n",
       "</style>\n",
       "<table border=\"1\" class=\"dataframe\">\n",
       "  <thead>\n",
       "    <tr style=\"text-align: right;\">\n",
       "      <th></th>\n",
       "      <th>department</th>\n",
       "      <th>avg_salary</th>\n",
       "    </tr>\n",
       "  </thead>\n",
       "  <tbody>\n",
       "    <tr>\n",
       "      <th>0</th>\n",
       "      <td>Finance</td>\n",
       "      <td>88500.00</td>\n",
       "    </tr>\n",
       "    <tr>\n",
       "      <th>2</th>\n",
       "      <td>IT</td>\n",
       "      <td>86333.33</td>\n",
       "    </tr>\n",
       "    <tr>\n",
       "      <th>4</th>\n",
       "      <td>Sales</td>\n",
       "      <td>73666.67</td>\n",
       "    </tr>\n",
       "    <tr>\n",
       "      <th>3</th>\n",
       "      <td>Marketing</td>\n",
       "      <td>68333.33</td>\n",
       "    </tr>\n",
       "    <tr>\n",
       "      <th>1</th>\n",
       "      <td>HR</td>\n",
       "      <td>56000.00</td>\n",
       "    </tr>\n",
       "  </tbody>\n",
       "</table>\n",
       "</div>"
      ],
      "text/plain": [
       "  department  avg_salary\n",
       "0    Finance    88500.00\n",
       "2         IT    86333.33\n",
       "4      Sales    73666.67\n",
       "3  Marketing    68333.33\n",
       "1         HR    56000.00"
      ]
     },
     "execution_count": 7,
     "metadata": {},
     "output_type": "execute_result"
    }
   ],
   "source": [
    "#SELECT department, AVG(salary) AS avg_salary FROM employees GROUP BY department ORDER BY avg_salary DESC;\n",
    "df.groupby('department')['salary'].mean().round(2).reset_index().sort_values(by='salary',ascending=False).rename(columns = {'salary' : 'avg_salary'})"
   ]
  },
  {
   "cell_type": "markdown",
   "id": "03c6616b-1e57-4998-a8d3-82af9ca1f32a",
   "metadata": {},
   "source": [
    "#### Count of Employees Per City"
   ]
  },
  {
   "cell_type": "code",
   "execution_count": 9,
   "id": "99b15e41-f048-4e90-ab11-35113d84e1c4",
   "metadata": {},
   "outputs": [
    {
     "data": {
      "text/html": [
       "<div>\n",
       "<style scoped>\n",
       "    .dataframe tbody tr th:only-of-type {\n",
       "        vertical-align: middle;\n",
       "    }\n",
       "\n",
       "    .dataframe tbody tr th {\n",
       "        vertical-align: top;\n",
       "    }\n",
       "\n",
       "    .dataframe thead th {\n",
       "        text-align: right;\n",
       "    }\n",
       "</style>\n",
       "<table border=\"1\" class=\"dataframe\">\n",
       "  <thead>\n",
       "    <tr style=\"text-align: right;\">\n",
       "      <th></th>\n",
       "      <th>city</th>\n",
       "      <th>employee_count</th>\n",
       "    </tr>\n",
       "  </thead>\n",
       "  <tbody>\n",
       "    <tr>\n",
       "      <th>0</th>\n",
       "      <td>Austin</td>\n",
       "      <td>3</td>\n",
       "    </tr>\n",
       "    <tr>\n",
       "      <th>1</th>\n",
       "      <td>Boston</td>\n",
       "      <td>3</td>\n",
       "    </tr>\n",
       "    <tr>\n",
       "      <th>2</th>\n",
       "      <td>Chicago</td>\n",
       "      <td>4</td>\n",
       "    </tr>\n",
       "    <tr>\n",
       "      <th>3</th>\n",
       "      <td>New York</td>\n",
       "      <td>4</td>\n",
       "    </tr>\n",
       "    <tr>\n",
       "      <th>4</th>\n",
       "      <td>San Francisco</td>\n",
       "      <td>3</td>\n",
       "    </tr>\n",
       "    <tr>\n",
       "      <th>5</th>\n",
       "      <td>Seattle</td>\n",
       "      <td>3</td>\n",
       "    </tr>\n",
       "  </tbody>\n",
       "</table>\n",
       "</div>"
      ],
      "text/plain": [
       "            city  employee_count\n",
       "0         Austin               3\n",
       "1         Boston               3\n",
       "2        Chicago               4\n",
       "3       New York               4\n",
       "4  San Francisco               3\n",
       "5        Seattle               3"
      ]
     },
     "execution_count": 9,
     "metadata": {},
     "output_type": "execute_result"
    }
   ],
   "source": [
    "#SELECT city, COUNT(*) AS employee_count FROM employees GROUP BY city;\n",
    "df.groupby('city')['id'].count().reset_index().rename(columns = {'id' : 'employee_count'})"
   ]
  },
  {
   "cell_type": "markdown",
   "id": "87182ecf-73d9-4db6-8fab-8760c347b856",
   "metadata": {},
   "source": [
    "#### Find Departments Where Total Salary is Greater Than 300K"
   ]
  },
  {
   "cell_type": "code",
   "execution_count": 11,
   "id": "25650f28-e4b8-406c-8f8e-caea5ddd8290",
   "metadata": {},
   "outputs": [
    {
     "data": {
      "text/html": [
       "<div>\n",
       "<style scoped>\n",
       "    .dataframe tbody tr th:only-of-type {\n",
       "        vertical-align: middle;\n",
       "    }\n",
       "\n",
       "    .dataframe tbody tr th {\n",
       "        vertical-align: top;\n",
       "    }\n",
       "\n",
       "    .dataframe thead th {\n",
       "        text-align: right;\n",
       "    }\n",
       "</style>\n",
       "<table border=\"1\" class=\"dataframe\">\n",
       "  <thead>\n",
       "    <tr style=\"text-align: right;\">\n",
       "      <th></th>\n",
       "      <th>department</th>\n",
       "      <th>total_salary</th>\n",
       "    </tr>\n",
       "  </thead>\n",
       "  <tbody>\n",
       "    <tr>\n",
       "      <th>0</th>\n",
       "      <td>Finance</td>\n",
       "      <td>354000</td>\n",
       "    </tr>\n",
       "    <tr>\n",
       "      <th>2</th>\n",
       "      <td>IT</td>\n",
       "      <td>518000</td>\n",
       "    </tr>\n",
       "  </tbody>\n",
       "</table>\n",
       "</div>"
      ],
      "text/plain": [
       "  department  total_salary\n",
       "0    Finance        354000\n",
       "2         IT        518000"
      ]
     },
     "execution_count": 11,
     "metadata": {},
     "output_type": "execute_result"
    }
   ],
   "source": [
    "#SELECT department, SUM(salary) AS total_salary FROM employees GROUP BY department HAVING SUM(salary) > 300000;\n",
    "df.groupby('department')['salary'].sum().reset_index().query('salary > 300000').rename(columns = {'salary' : 'total_salary'})"
   ]
  },
  {
   "cell_type": "markdown",
   "id": "d4d79241-15f4-46b8-b771-fc190a8e6734",
   "metadata": {},
   "source": [
    "#### Find Cities With More Than 3 Employees (Using HAVING)"
   ]
  },
  {
   "cell_type": "code",
   "execution_count": 13,
   "id": "a96bef71-7e5c-42f7-84e2-dba787627acc",
   "metadata": {},
   "outputs": [
    {
     "data": {
      "text/html": [
       "<div>\n",
       "<style scoped>\n",
       "    .dataframe tbody tr th:only-of-type {\n",
       "        vertical-align: middle;\n",
       "    }\n",
       "\n",
       "    .dataframe tbody tr th {\n",
       "        vertical-align: top;\n",
       "    }\n",
       "\n",
       "    .dataframe thead th {\n",
       "        text-align: right;\n",
       "    }\n",
       "</style>\n",
       "<table border=\"1\" class=\"dataframe\">\n",
       "  <thead>\n",
       "    <tr style=\"text-align: right;\">\n",
       "      <th></th>\n",
       "      <th>city</th>\n",
       "      <th>employee_count</th>\n",
       "    </tr>\n",
       "  </thead>\n",
       "  <tbody>\n",
       "    <tr>\n",
       "      <th>2</th>\n",
       "      <td>Chicago</td>\n",
       "      <td>4</td>\n",
       "    </tr>\n",
       "    <tr>\n",
       "      <th>3</th>\n",
       "      <td>New York</td>\n",
       "      <td>4</td>\n",
       "    </tr>\n",
       "  </tbody>\n",
       "</table>\n",
       "</div>"
      ],
      "text/plain": [
       "       city  employee_count\n",
       "2   Chicago               4\n",
       "3  New York               4"
      ]
     },
     "execution_count": 13,
     "metadata": {},
     "output_type": "execute_result"
    }
   ],
   "source": [
    "#SELECT city, COUNT(*) AS employee_count FROM employees GROUP BY city HAVING COUNT(*) > 3;\n",
    "df.groupby('city').agg(employee_count = ('id', 'count')).reset_index().query(\"employee_count > 3\")"
   ]
  },
  {
   "cell_type": "markdown",
   "id": "81790a39-76c9-4795-a180-e6f50cda59db",
   "metadata": {},
   "source": [
    "#### Highest Paid Employee Per Department"
   ]
  },
  {
   "cell_type": "code",
   "execution_count": 15,
   "id": "5f93928f-5019-4d9f-86ee-0d03cb5c6afb",
   "metadata": {},
   "outputs": [
    {
     "data": {
      "text/html": [
       "<div>\n",
       "<style scoped>\n",
       "    .dataframe tbody tr th:only-of-type {\n",
       "        vertical-align: middle;\n",
       "    }\n",
       "\n",
       "    .dataframe tbody tr th {\n",
       "        vertical-align: top;\n",
       "    }\n",
       "\n",
       "    .dataframe thead th {\n",
       "        text-align: right;\n",
       "    }\n",
       "</style>\n",
       "<table border=\"1\" class=\"dataframe\">\n",
       "  <thead>\n",
       "    <tr style=\"text-align: right;\">\n",
       "      <th></th>\n",
       "      <th>department</th>\n",
       "      <th>name</th>\n",
       "      <th>salary</th>\n",
       "    </tr>\n",
       "  </thead>\n",
       "  <tbody>\n",
       "    <tr>\n",
       "      <th>0</th>\n",
       "      <td>Finance</td>\n",
       "      <td>Grace</td>\n",
       "      <td>97000</td>\n",
       "    </tr>\n",
       "    <tr>\n",
       "      <th>1</th>\n",
       "      <td>HR</td>\n",
       "      <td>Alice</td>\n",
       "      <td>60000</td>\n",
       "    </tr>\n",
       "    <tr>\n",
       "      <th>2</th>\n",
       "      <td>IT</td>\n",
       "      <td>Henry</td>\n",
       "      <td>110000</td>\n",
       "    </tr>\n",
       "    <tr>\n",
       "      <th>3</th>\n",
       "      <td>Marketing</td>\n",
       "      <td>Steve</td>\n",
       "      <td>70000</td>\n",
       "    </tr>\n",
       "    <tr>\n",
       "      <th>4</th>\n",
       "      <td>Sales</td>\n",
       "      <td>Rachel</td>\n",
       "      <td>76000</td>\n",
       "    </tr>\n",
       "  </tbody>\n",
       "</table>\n",
       "</div>"
      ],
      "text/plain": [
       "  department    name  salary\n",
       "0    Finance   Grace   97000\n",
       "1         HR   Alice   60000\n",
       "2         IT   Henry  110000\n",
       "3  Marketing   Steve   70000\n",
       "4      Sales  Rachel   76000"
      ]
     },
     "execution_count": 15,
     "metadata": {},
     "output_type": "execute_result"
    }
   ],
   "source": [
    "#SELECT department, name, salary FROM employees e1 WHERE salary = (SELECT MAX(salary) FROM employees e2 WHERE e1.department = e2.department);\n",
    "df.loc[df.groupby('department')['salary'].idxmax(),['department','name','salary']].reset_index(drop = True)"
   ]
  },
  {
   "cell_type": "markdown",
   "id": "3fabaf0f-f3a5-4def-bbb0-ad228e387bf9",
   "metadata": {},
   "source": [
    "#### Number of Employees Who Joined After 2019, Grouped by Department"
   ]
  },
  {
   "cell_type": "code",
   "execution_count": 17,
   "id": "3baa0de5-f824-464f-a533-5802152891e7",
   "metadata": {},
   "outputs": [
    {
     "data": {
      "text/html": [
       "<div>\n",
       "<style scoped>\n",
       "    .dataframe tbody tr th:only-of-type {\n",
       "        vertical-align: middle;\n",
       "    }\n",
       "\n",
       "    .dataframe tbody tr th {\n",
       "        vertical-align: top;\n",
       "    }\n",
       "\n",
       "    .dataframe thead th {\n",
       "        text-align: right;\n",
       "    }\n",
       "</style>\n",
       "<table border=\"1\" class=\"dataframe\">\n",
       "  <thead>\n",
       "    <tr style=\"text-align: right;\">\n",
       "      <th></th>\n",
       "      <th>department</th>\n",
       "      <th>employee_count</th>\n",
       "    </tr>\n",
       "  </thead>\n",
       "  <tbody>\n",
       "    <tr>\n",
       "      <th>0</th>\n",
       "      <td>Finance</td>\n",
       "      <td>1</td>\n",
       "    </tr>\n",
       "    <tr>\n",
       "      <th>1</th>\n",
       "      <td>HR</td>\n",
       "      <td>4</td>\n",
       "    </tr>\n",
       "    <tr>\n",
       "      <th>2</th>\n",
       "      <td>IT</td>\n",
       "      <td>3</td>\n",
       "    </tr>\n",
       "    <tr>\n",
       "      <th>3</th>\n",
       "      <td>Marketing</td>\n",
       "      <td>2</td>\n",
       "    </tr>\n",
       "    <tr>\n",
       "      <th>4</th>\n",
       "      <td>Sales</td>\n",
       "      <td>2</td>\n",
       "    </tr>\n",
       "  </tbody>\n",
       "</table>\n",
       "</div>"
      ],
      "text/plain": [
       "  department  employee_count\n",
       "0    Finance               1\n",
       "1         HR               4\n",
       "2         IT               3\n",
       "3  Marketing               2\n",
       "4      Sales               2"
      ]
     },
     "execution_count": 17,
     "metadata": {},
     "output_type": "execute_result"
    }
   ],
   "source": [
    "#SELECT department, COUNT(*) AS employee_count FROM employees GROUP BY department WHERE joining_date > '2019-01-01';\n",
    "df[df['joining_date'] > '2019-01-01'].groupby('department')['id'].count().reset_index().rename(columns = {'id':'employee_count'})"
   ]
  },
  {
   "cell_type": "markdown",
   "id": "fdbdd768-c1cd-4c9f-85ee-8f793b35b0a3",
   "metadata": {},
   "source": [
    "#### Average Salary Per Department and City"
   ]
  },
  {
   "cell_type": "code",
   "execution_count": 19,
   "id": "2c65d14f-8b5c-4d0f-b355-8a6fa63dba2e",
   "metadata": {},
   "outputs": [
    {
     "data": {
      "text/html": [
       "<div>\n",
       "<style scoped>\n",
       "    .dataframe tbody tr th:only-of-type {\n",
       "        vertical-align: middle;\n",
       "    }\n",
       "\n",
       "    .dataframe tbody tr th {\n",
       "        vertical-align: top;\n",
       "    }\n",
       "\n",
       "    .dataframe thead th {\n",
       "        text-align: right;\n",
       "    }\n",
       "</style>\n",
       "<table border=\"1\" class=\"dataframe\">\n",
       "  <thead>\n",
       "    <tr style=\"text-align: right;\">\n",
       "      <th></th>\n",
       "      <th>department</th>\n",
       "      <th>city</th>\n",
       "      <th>avg_salary</th>\n",
       "    </tr>\n",
       "  </thead>\n",
       "  <tbody>\n",
       "    <tr>\n",
       "      <th>0</th>\n",
       "      <td>Finance</td>\n",
       "      <td>Chicago</td>\n",
       "      <td>88500.00</td>\n",
       "    </tr>\n",
       "    <tr>\n",
       "      <th>1</th>\n",
       "      <td>HR</td>\n",
       "      <td>New York</td>\n",
       "      <td>56000.00</td>\n",
       "    </tr>\n",
       "    <tr>\n",
       "      <th>2</th>\n",
       "      <td>IT</td>\n",
       "      <td>Austin</td>\n",
       "      <td>99000.00</td>\n",
       "    </tr>\n",
       "    <tr>\n",
       "      <th>3</th>\n",
       "      <td>IT</td>\n",
       "      <td>San Francisco</td>\n",
       "      <td>73666.67</td>\n",
       "    </tr>\n",
       "    <tr>\n",
       "      <th>4</th>\n",
       "      <td>Marketing</td>\n",
       "      <td>Seattle</td>\n",
       "      <td>68333.33</td>\n",
       "    </tr>\n",
       "    <tr>\n",
       "      <th>5</th>\n",
       "      <td>Sales</td>\n",
       "      <td>Boston</td>\n",
       "      <td>73666.67</td>\n",
       "    </tr>\n",
       "  </tbody>\n",
       "</table>\n",
       "</div>"
      ],
      "text/plain": [
       "  department           city  avg_salary\n",
       "0    Finance        Chicago    88500.00\n",
       "1         HR       New York    56000.00\n",
       "2         IT         Austin    99000.00\n",
       "3         IT  San Francisco    73666.67\n",
       "4  Marketing        Seattle    68333.33\n",
       "5      Sales         Boston    73666.67"
      ]
     },
     "execution_count": 19,
     "metadata": {},
     "output_type": "execute_result"
    }
   ],
   "source": [
    "#SELECT department, city, AVG(salary) AS avg_salary FROM employees GROUP BY department, city;\n",
    "df.groupby(['department','city'])['salary'].mean().round(2).reset_index().rename(columns={'salary':'avg_salary'})"
   ]
  },
  {
   "cell_type": "markdown",
   "id": "e3adbc29-f751-4e9d-9e2e-c6ecf49312ab",
   "metadata": {},
   "source": [
    "#### Find the department with the highest total salary"
   ]
  },
  {
   "cell_type": "code",
   "execution_count": 21,
   "id": "50d1bca2-8d0a-4678-acd6-63cd6677f147",
   "metadata": {},
   "outputs": [
    {
     "data": {
      "text/html": [
       "<div>\n",
       "<style scoped>\n",
       "    .dataframe tbody tr th:only-of-type {\n",
       "        vertical-align: middle;\n",
       "    }\n",
       "\n",
       "    .dataframe tbody tr th {\n",
       "        vertical-align: top;\n",
       "    }\n",
       "\n",
       "    .dataframe thead th {\n",
       "        text-align: right;\n",
       "    }\n",
       "</style>\n",
       "<table border=\"1\" class=\"dataframe\">\n",
       "  <thead>\n",
       "    <tr style=\"text-align: right;\">\n",
       "      <th></th>\n",
       "      <th>department</th>\n",
       "      <th>salary</th>\n",
       "    </tr>\n",
       "  </thead>\n",
       "  <tbody>\n",
       "    <tr>\n",
       "      <th>2</th>\n",
       "      <td>IT</td>\n",
       "      <td>518000</td>\n",
       "    </tr>\n",
       "  </tbody>\n",
       "</table>\n",
       "</div>"
      ],
      "text/plain": [
       "  department  salary\n",
       "2         IT  518000"
      ]
     },
     "execution_count": 21,
     "metadata": {},
     "output_type": "execute_result"
    }
   ],
   "source": [
    "#SELECT department, SUM(salary) AS total_salary FROM employees GROUP BY department ORDER BY total_salary DESC LIMIT 1;\n",
    "df.groupby('department')['salary'].sum().reset_index().nlargest(1, 'salary')"
   ]
  },
  {
   "cell_type": "markdown",
   "id": "bf66216b-42b5-4728-bfc2-888a83c866a1",
   "metadata": {},
   "source": [
    "#### Find percentage of total salary each department contributes"
   ]
  },
  {
   "cell_type": "code",
   "execution_count": 23,
   "id": "f3b45dcb-bbb5-41f5-8aab-a5b90d7e1407",
   "metadata": {},
   "outputs": [],
   "source": [
    "#SELECT department, SUM(salary) AS total_salary, (SUM(salary) * 100.0 / (SELECT SUM(salary) FROM employees)) AS percentage\n",
    "#FROM employees \n",
    "#GROUP BY department \n",
    "#ORDER BY percentage DESC;"
   ]
  },
  {
   "cell_type": "code",
   "execution_count": 24,
   "id": "47be1611-7228-4ef6-a02f-64c79c6254de",
   "metadata": {},
   "outputs": [
    {
     "data": {
      "text/html": [
       "<div>\n",
       "<style scoped>\n",
       "    .dataframe tbody tr th:only-of-type {\n",
       "        vertical-align: middle;\n",
       "    }\n",
       "\n",
       "    .dataframe tbody tr th {\n",
       "        vertical-align: top;\n",
       "    }\n",
       "\n",
       "    .dataframe thead th {\n",
       "        text-align: right;\n",
       "    }\n",
       "</style>\n",
       "<table border=\"1\" class=\"dataframe\">\n",
       "  <thead>\n",
       "    <tr style=\"text-align: right;\">\n",
       "      <th></th>\n",
       "      <th>department</th>\n",
       "      <th>salary</th>\n",
       "      <th>percentage</th>\n",
       "    </tr>\n",
       "  </thead>\n",
       "  <tbody>\n",
       "    <tr>\n",
       "      <th>3</th>\n",
       "      <td>Marketing</td>\n",
       "      <td>205000</td>\n",
       "      <td>13.47</td>\n",
       "    </tr>\n",
       "    <tr>\n",
       "      <th>4</th>\n",
       "      <td>Sales</td>\n",
       "      <td>221000</td>\n",
       "      <td>14.52</td>\n",
       "    </tr>\n",
       "    <tr>\n",
       "      <th>1</th>\n",
       "      <td>HR</td>\n",
       "      <td>224000</td>\n",
       "      <td>14.72</td>\n",
       "    </tr>\n",
       "    <tr>\n",
       "      <th>0</th>\n",
       "      <td>Finance</td>\n",
       "      <td>354000</td>\n",
       "      <td>23.26</td>\n",
       "    </tr>\n",
       "    <tr>\n",
       "      <th>2</th>\n",
       "      <td>IT</td>\n",
       "      <td>518000</td>\n",
       "      <td>34.03</td>\n",
       "    </tr>\n",
       "  </tbody>\n",
       "</table>\n",
       "</div>"
      ],
      "text/plain": [
       "  department  salary  percentage\n",
       "3  Marketing  205000       13.47\n",
       "4      Sales  221000       14.52\n",
       "1         HR  224000       14.72\n",
       "0    Finance  354000       23.26\n",
       "2         IT  518000       34.03"
      ]
     },
     "execution_count": 24,
     "metadata": {},
     "output_type": "execute_result"
    }
   ],
   "source": [
    "df_salary = df.groupby('department')['salary'].sum().reset_index()\n",
    "df_salary['percentage'] = ((df_salary['salary'] / df_salary['salary'].sum()) * 100).round(2)\n",
    "df_salary.sort_values(by='percentage', ascending=True)"
   ]
  },
  {
   "cell_type": "markdown",
   "id": "149c7a88-ebe2-4571-8f9c-e9b62ce29ae4",
   "metadata": {},
   "source": [
    "#### Find the second highest salary in each department"
   ]
  },
  {
   "cell_type": "code",
   "execution_count": 26,
   "id": "823346fd-aa52-45bb-93c9-372999b323ff",
   "metadata": {},
   "outputs": [],
   "source": [
    "#SELECT name, department, salary \n",
    "#FROM employees e1 \n",
    "#WHERE salary > (SELECT AVG(salary) FROM employees e2 WHERE e1.department = e2.department);"
   ]
  },
  {
   "cell_type": "code",
   "execution_count": 27,
   "id": "dc596e9d-76ec-4e84-8c6d-51b0cca4862b",
   "metadata": {},
   "outputs": [
    {
     "data": {
      "text/html": [
       "<div>\n",
       "<style scoped>\n",
       "    .dataframe tbody tr th:only-of-type {\n",
       "        vertical-align: middle;\n",
       "    }\n",
       "\n",
       "    .dataframe tbody tr th {\n",
       "        vertical-align: top;\n",
       "    }\n",
       "\n",
       "    .dataframe thead th {\n",
       "        text-align: right;\n",
       "    }\n",
       "</style>\n",
       "<table border=\"1\" class=\"dataframe\">\n",
       "  <thead>\n",
       "    <tr style=\"text-align: right;\">\n",
       "      <th></th>\n",
       "      <th>department</th>\n",
       "      <th>second_highest_salary</th>\n",
       "    </tr>\n",
       "  </thead>\n",
       "  <tbody>\n",
       "    <tr>\n",
       "      <th>0</th>\n",
       "      <td>Finance</td>\n",
       "      <td>93000</td>\n",
       "    </tr>\n",
       "    <tr>\n",
       "      <th>1</th>\n",
       "      <td>HR</td>\n",
       "      <td>59000</td>\n",
       "    </tr>\n",
       "    <tr>\n",
       "      <th>2</th>\n",
       "      <td>IT</td>\n",
       "      <td>95000</td>\n",
       "    </tr>\n",
       "    <tr>\n",
       "      <th>3</th>\n",
       "      <td>Marketing</td>\n",
       "      <td>68000</td>\n",
       "    </tr>\n",
       "    <tr>\n",
       "      <th>4</th>\n",
       "      <td>Sales</td>\n",
       "      <td>73000</td>\n",
       "    </tr>\n",
       "  </tbody>\n",
       "</table>\n",
       "</div>"
      ],
      "text/plain": [
       "  department  second_highest_salary\n",
       "0    Finance                  93000\n",
       "1         HR                  59000\n",
       "2         IT                  95000\n",
       "3  Marketing                  68000\n",
       "4      Sales                  73000"
      ]
     },
     "execution_count": 27,
     "metadata": {},
     "output_type": "execute_result"
    }
   ],
   "source": [
    "(df[df['salary'] < df.groupby('department')['salary'].transform('max')].groupby('department', as_index=False)['salary']\n",
    ".max().rename(columns={'salary': 'second_highest_salary'}))"
   ]
  }
 ],
 "metadata": {
  "kernelspec": {
   "display_name": "Python [conda env:base] *",
   "language": "python",
   "name": "conda-base-py"
  },
  "language_info": {
   "codemirror_mode": {
    "name": "ipython",
    "version": 3
   },
   "file_extension": ".py",
   "mimetype": "text/x-python",
   "name": "python",
   "nbconvert_exporter": "python",
   "pygments_lexer": "ipython3",
   "version": "3.12.7"
  }
 },
 "nbformat": 4,
 "nbformat_minor": 5
}
